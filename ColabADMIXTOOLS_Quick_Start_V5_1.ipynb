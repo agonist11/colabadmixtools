{
  "nbformat": 4,
  "nbformat_minor": 0,
  "metadata": {
    "colab": {
      "provenance": [],
      "authorship_tag": "ABX9TyMVCIwpa0n3RrxJC6Kjx2Dk",
      "include_colab_link": true
    },
    "kernelspec": {
      "name": "python3",
      "display_name": "Python 3"
    },
    "language_info": {
      "name": "python"
    }
  },
  "cells": [
    {
      "cell_type": "markdown",
      "metadata": {
        "id": "view-in-github",
        "colab_type": "text"
      },
      "source": [
        "<a href=\"https://colab.research.google.com/github/agonist11/colabadmixtools/blob/main/ColabADMIXTOOLS_Quick_Start_V5_1.ipynb\" target=\"_parent\"><img src=\"https://colab.research.google.com/assets/colab-badge.svg\" alt=\"Open In Colab\"/></a>"
      ]
    },
    {
      "cell_type": "markdown",
      "source": [
        "# **ColabADMIXTOOLS Quick-Start Notebook V5.1**\n",
        "---\n",
        "Special thanks to `Florio` and the community for contributions, testing, and documentation.\n",
        "\n",
        "> Revised 08-03-2025\n",
        "\n",
        "\n",
        "\n",
        "<a href=\"https://github.com/agonist11/colabadmixtools\" target=\"_blank\">**Check out the GitHub with other tools**</a>\n",
        "\n",
        "\n",
        "---\n",
        "\n",
        "## **What this notebook does**\n",
        "\n",
        "- Mounts your Google Drive and creates Drive-backed folders for R libraries and AADR data `[Section A]`\n",
        "- Installs or reinstalls the `admixtools2` package into your Drive-backed R library  \n",
        "- Downloads AADR v62 from Dataverse (or unzips your uploaded archive) into Drive  \n",
        "- Provides a reusable cell to run **qpAdm** via `rpy2` `[Section B] `\n",
        "- Persists everything on Drive so you can restart the Colab VM and pick up right where you left off  \n",
        "\n",
        "---\n",
        "\n",
        "## **Customize your own analyses**\n",
        "\n",
        "For all available admixtools2 functions and parameters, see the official reference and build your own workflows:  \n",
        "<a href=\"https://uqrmaie1.github.io/admixtools/reference/index.html\" target=\"_blank\">**admixtools2 Reference Documentation**</a>\n",
        "\n",
        "Create a copy of this Notebook to save your changes.\n",
        "\n",
        "---\n",
        "\n",
        "Feel free to fork or star the repo for your own datasets and tweaks:  \n",
        "<a href=\"https://github.com/agonist11/colabadmixtools\" target=\"_blank\">https://github.com/agonist11/colabadmixtools</a>\n"
      ],
      "metadata": {
        "id": "YdaH-3Nyx82L"
      }
    },
    {
      "cell_type": "markdown",
      "source": [
        "## **[Section A] First-Time Users or Fresh Re-Installations Only**"
      ],
      "metadata": {
        "id": "8uxauaDgwlSR"
      }
    },
    {
      "cell_type": "code",
      "source": [
        "#@title **1. Mount Google Drive & Prepare Folders**\n",
        "from google.colab import drive\n",
        "import os, shutil\n",
        "\n",
        "drive.mount('/content/drive', force_remount=True)\n",
        "\n",
        "ROOT   = '/content/drive/MyDrive/colabadmixtools'\n",
        "R_LIBS = os.path.join(ROOT, 'R_libs')\n",
        "AADR   = os.path.join(ROOT, 'AADR')\n",
        "\n",
        "os.makedirs(ROOT, exist_ok=True)\n",
        "if os.path.exists(R_LIBS): shutil.rmtree(R_LIBS)\n",
        "os.makedirs(R_LIBS, exist_ok=True)\n",
        "\n",
        "os.environ['R_LIBS_USER'] = R_LIBS\n",
        "print(f\"Prepared:\\n • {R_LIBS}\\n • {AADR}\")\n"
      ],
      "metadata": {
        "id": "7t7T7dA6uCro",
        "cellView": "form"
      },
      "execution_count": null,
      "outputs": []
    },
    {
      "cell_type": "code",
      "source": [
        "#@title **2. Install admixtools (v2) into Google Drive**\n",
        "%%bash\n",
        "# install remotes if missing\n",
        "if ! Rscript -e \"quit(status = if (!requireNamespace('remotes', quietly=TRUE)) 1 else 0)\"; then\n",
        "  Rscript -e \"install.packages('remotes', repos='https://cloud.r-project.org')\"\n",
        "fi\n",
        "\n",
        "# install the correct GitHub repo (it's 'uqrmaie1/admixtools', not 'admixtools2')\n",
        "Rscript -e \"remotes::install_github('uqrmaie1/admixtools',\n",
        "                                   dependencies=TRUE,\n",
        "                                   force=TRUE,\n",
        "                                   lib=Sys.getenv('R_LIBS_USER'))\"\n",
        "echo \"admixtools installed into $R_LIBS_USER\"\n"
      ],
      "metadata": {
        "id": "yeEVMNcHvb2O",
        "cellView": "form"
      },
      "execution_count": null,
      "outputs": []
    },
    {
      "cell_type": "code",
      "source": [
        "#@title **3. Download AADR v62 from Dataverse into Google Drive**\n",
        "import os, shutil, requests\n",
        "\n",
        "ROOT = '/content/drive/MyDrive/colabadmixtools'\n",
        "AADR = os.path.join(ROOT, 'AADR')\n",
        "\n",
        "if os.path.exists(AADR): shutil.rmtree(AADR)\n",
        "os.makedirs(AADR, exist_ok=True)\n",
        "\n",
        "DATAVERSE = \"https://dataverse.harvard.edu\"\n",
        "PID        = \"doi:10.7910/DVN/FFIDCW\"\n",
        "meta_url   = f\"{DATAVERSE}/api/datasets/:persistentId/?persistentId={PID}\"\n",
        "\n",
        "md    = requests.get(meta_url).json()\n",
        "files = md['data']['latestVersion']['files']\n",
        "print(f\"→ {len(files)} file(s) found. Downloading…\")\n",
        "\n",
        "for f in files:\n",
        "    fid   = f['dataFile']['id']\n",
        "    name  = f.get('label', str(fid))\n",
        "    outp  = os.path.join(AADR, name)\n",
        "    dlurl = f\"{DATAVERSE}/api/access/datafile/{fid}\"\n",
        "    print(\"Downloading\", name)\n",
        "    with requests.get(dlurl, stream=True) as r:\n",
        "        r.raise_for_status()\n",
        "        with open(outp, 'wb') as fp:\n",
        "            for chunk in r.iter_content(8192):\n",
        "                fp.write(chunk)\n",
        "\n",
        "print(f\"AADR v62 downloaded to {AADR}\")\n"
      ],
      "metadata": {
        "id": "q6Ofpa4I76G-",
        "cellView": "form"
      },
      "execution_count": null,
      "outputs": []
    },
    {
      "cell_type": "markdown",
      "source": [
        "## **[Section B] Returning Users Only**"
      ],
      "metadata": {
        "id": "fbYK3RJbw4AT"
      }
    },
    {
      "cell_type": "code",
      "source": [
        "#@title **4. Mount Google Drive & set R library path**\n",
        "from google.colab import drive\n",
        "import os\n",
        "\n",
        "# 1) Mount your Drive\n",
        "drive.mount('/content/drive', force_remount=True)\n",
        "\n",
        "# 2) Point R to your persistent library (do NOT delete this folder here)\n",
        "R_LIBS = '/content/drive/MyDrive/colabadmixtools/R_libs'\n",
        "os.makedirs(R_LIBS, exist_ok=True)\n",
        "\n",
        "# 3) Export so R sees it\n",
        "os.environ['R_LIBS_USER'] = R_LIBS\n",
        "\n",
        "print(\"R_LIBS_USER →\", R_LIBS)\n"
      ],
      "metadata": {
        "cellView": "form",
        "id": "LbUa9F_vxBH8"
      },
      "execution_count": null,
      "outputs": []
    },
    {
      "cell_type": "code",
      "source": [
        "#@title **5. Run qpAdm with your existing install**\n",
        "prefix     = \"/content/drive/MyDrive/colabadmixtools/AADR/v62.0_HO_public\"  #@param {type:\"string\"}\n",
        "target     = \"MXL.DG\"                                                     #@param {type:\"string\"}\n",
        "left_pops  = \"IBS.DG,Nahua.DG,Yoruba.DG\"                                   #@param {type:\"string\"}\n",
        "right_pops = \"Mbuti.DG,Russia_UstIshim_IUP.DG,Russia_Kostenki14_UP.SG,Georgia_Dzudzuana_UP.SG,Russia_Sidelkino_HG.SG,Israel_Natufian.AG,Russia_MA1_UP.SG,Brazil_LocaDoSuin_Sambaqui_9100BP.AG,Switzerland_Bichon_Epipaleolithic.SG\"  #@param {type:\"string\"}\n",
        "\n",
        "# parse your comma‐lists\n",
        "left  = [p.strip() for p in left_pops.split(',')]\n",
        "right = [p.strip() for p in right_pops.split(',')]\n",
        "\n",
        "# import rpy2\n",
        "import rpy2.robjects as ro\n",
        "from rpy2.robjects import StrVector\n",
        "\n",
        "# 1) Tell R to look in your Drive-backed library first\n",
        "ro.r('.libPaths(c(Sys.getenv(\"R_LIBS_USER\"), .libPaths()))')\n",
        "\n",
        "# 2) Load admixtools from that folder\n",
        "ro.r('library(admixtools, quietly=TRUE)')\n",
        "\n",
        "# 3) Push your Python variables into R\n",
        "ro.globalenv['prefix'] = prefix\n",
        "ro.globalenv['left']   = StrVector(left)\n",
        "ro.globalenv['right']  = StrVector(right)\n",
        "ro.globalenv['target'] = target\n",
        "\n",
        "# 4) Run qpAdm\n",
        "res = ro.r('qpadm(prefix, left, right, target=target, allsnps=TRUE, verbose=TRUE)')\n",
        "print(res)\n"
      ],
      "metadata": {
        "cellView": "form",
        "id": "_FelAfzaXI-p"
      },
      "execution_count": null,
      "outputs": []
    },
    {
      "cell_type": "markdown",
      "source": [
        "# **Tools (In Progress)**"
      ],
      "metadata": {
        "id": "OVK_ZD9Y5DDM"
      }
    },
    {
      "cell_type": "code",
      "source": [
        "#@title **Tool 1: Upload ZIP via File Browser & Unzip to `/content/`**\n",
        "#@markdown Slower.\n",
        "from google.colab import files\n",
        "import zipfile, os\n",
        "\n",
        "# 1. Prompt user to upload a ZIP file\n",
        "uploaded = files.upload()\n",
        "\n",
        "# 2. Find the first ZIP in the uploads\n",
        "zip_files = [name for name in uploaded.keys() if name.lower().endswith('.zip')]\n",
        "if not zip_files:\n",
        "    print(\"No .zip file uploaded. Please upload a ZIP and re-run this cell.\")\n",
        "else:\n",
        "    zip_path = zip_files[0]\n",
        "    # 3. Unzip into /content/\n",
        "    with zipfile.ZipFile(zip_path, 'r') as z:\n",
        "        z.extractall('/content/')\n",
        "    print(f\"Unpacked {zip_path} → /content/\")\n"
      ],
      "metadata": {
        "cellView": "form",
        "id": "4ROnlkH4sj1y"
      },
      "execution_count": null,
      "outputs": []
    },
    {
      "cell_type": "code",
      "source": [
        "#@title **Tool 2: Mount Google Drive & Unzip to `/content/`**\n",
        "#@markdown Faster.\n",
        "zip_file_path = \"/content/drive/MyDrive/colabadmixtools/Florio_mergedHO.zip\"  #@param {type:\"string\"}\n",
        "\n",
        "from google.colab import drive\n",
        "import zipfile, os\n",
        "\n",
        "# 1. Mount your Drive\n",
        "drive.mount('/content/drive', force_remount=True)\n",
        "\n",
        "# 2. Validate & unzip into the Colab runtime root\n",
        "if os.path.isfile(zip_file_path) and zip_file_path.lower().endswith('.zip'):\n",
        "    with zipfile.ZipFile(zip_file_path, 'r') as z:\n",
        "        z.extractall('/content/')\n",
        "    print(f\"Unpacked {os.path.basename(zip_file_path)} → /content/\")\n",
        "else:\n",
        "    print(f\"ZIP file not found at:\\n  {zip_file_path}\\nPlease check the path and try again.\")\n"
      ],
      "metadata": {
        "cellView": "form",
        "id": "gEY3NPpV4bbe"
      },
      "execution_count": null,
      "outputs": []
    }
  ]
}